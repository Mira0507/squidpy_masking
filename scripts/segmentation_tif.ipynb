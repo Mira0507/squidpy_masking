{
 "cells": [
  {
   "cell_type": "markdown",
   "id": "009c02f5-7bce-40a2-88fb-5efdde061a57",
   "metadata": {},
   "source": [
    "# Segmentation of TIF image files using squidpy"
   ]
  },
  {
   "cell_type": "markdown",
   "id": "95cafcd7-d746-4023-b2a7-e9ee30b4448f",
   "metadata": {},
   "source": [
    "This workflow is designed to demonstrate image segmentation for Visium analysis \n",
    "using the [squidpy (Palla, Spitzer et al., 2022)](https://doi.org/10.1038/s41592-021-01358-2) package.\n",
    "Refer to the following resources for technical details:\n",
    "\n",
    "- [Squidpy documentation](https://squidpy.readthedocs.io/en/stable/index.html)\n",
    "- [Tutorial: Analyze Visium fluorescence data](https://squidpy.readthedocs.io/en/stable/notebooks/tutorials/tutorial_visium_fluo.html)\n",
    "- [Squidpy GitHub](https://github.com/scverse/squidpy)"
   ]
  },
  {
   "cell_type": "markdown",
   "id": "b0868db1-44c6-45ba-a6b2-36683186aa44",
   "metadata": {},
   "source": [
    "## Installing libraries"
   ]
  },
  {
   "cell_type": "code",
   "execution_count": 3,
   "id": "5a85404a-a7cd-49a1-b351-fccabda5d14b",
   "metadata": {},
   "outputs": [
    {
     "name": "stderr",
     "output_type": "stream",
     "text": [
      "/Users/sohnm/Documents/squidpy_masking/env/lib/python3.11/site-packages/dask/dataframe/__init__.py:31: FutureWarning: The legacy Dask DataFrame implementation is deprecated and will be removed in a future version. Set the configuration option `dataframe.query-planning` to `True` or None to enable the new Dask Dataframe implementation and silence this warning.\n",
      "  warnings.warn(\n",
      "/Users/sohnm/Documents/squidpy_masking/env/lib/python3.11/site-packages/xarray_schema/__init__.py:1: UserWarning: pkg_resources is deprecated as an API. See https://setuptools.pypa.io/en/latest/pkg_resources.html. The pkg_resources package is slated for removal as early as 2025-11-30. Refrain from using this package or pin to Setuptools<81.\n",
      "  from pkg_resources import DistributionNotFound, get_distribution\n",
      "/Users/sohnm/Documents/squidpy_masking/env/lib/python3.11/site-packages/anndata/__init__.py:44: FutureWarning: Importing read_text from `anndata` is deprecated. Import anndata.io.read_text instead.\n",
      "  return module_get_attr_redirect(attr_name, deprecated_mapping=_DEPRECATED)\n"
     ]
    }
   ],
   "source": [
    "import numpy as np\n",
    "import matplotlib.pyplot as plt\n",
    "import squidpy as sq\n",
    "from tifffile import imread\n",
    "import napari\n",
    "import os"
   ]
  },
  {
   "cell_type": "markdown",
   "id": "eb88db5d-b4c6-4ebd-90cc-e8e2e41bbf48",
   "metadata": {},
   "source": [
    "## Configuration"
   ]
  },
  {
   "cell_type": "code",
   "execution_count": 5,
   "id": "b0aa259d-5393-49d6-ad67-9035fc4f8429",
   "metadata": {},
   "outputs": [],
   "source": [
    "# ------------------------------------------------------------------------------\n",
    "# This chunk is used to specify variables for paths to input files/directories\n",
    "# and parameter settings\n",
    "# ------------------------------------------------------------------------------\n",
    "\n",
    "# reticulate::repl_python()\n",
    "\n",
    "# Specify input image file\n",
    "input_image = \"image_conversion/converted_169.ome.tif\"\n",
    "\n",
    "# Specify argument setting for printing images\n",
    "channel_config = {\n",
    "    'Merged' : {'ch' : None, 'cm' : None},\n",
    "    'Channel 0' : {'ch' : 0, 'cm' : 'gray'},\n",
    "    'Channel 1' : {'ch' : 1, 'cm' : 'gray'},\n",
    "    'Channel 2' : {'ch' : 2, 'cm' : 'gray'},\n",
    "    'Channel 3' : {'ch' : 3, 'cm' : 'gray'},\n",
    "    'Channel 4' : {'ch' : 4, 'cm' : 'gray'}\n",
    "}\n",
    "\n",
    "# Specify the name of input image layer to be processed\n",
    "lyr = 'image'\n",
    "\n",
    "# Specify signal values to be tested for Gaussian smoothing\n",
    "# Sigma represents the variance for normal distribution\n",
    "gaussian_sigma = 1\n",
    "\n",
    "# Specify coordinates to crop images\n",
    "crop_coord = {'height' : 2500, 'width' : 2500, 'size' : 500, 'scale' : 1}\n",
    "\n",
    "# Specify the segmentation method\n",
    "seg_method = \"watershed\"\n",
    "\n",
    "# Specify the thresholding method. If `None`, the Otsu method is used.\n",
    "thr_method = None"
   ]
  },
  {
   "cell_type": "markdown",
   "id": "3ef5863c-98f8-4f12-b3bb-c8a835931ba1",
   "metadata": {},
   "source": [
    "## Loading input images\n",
    "\n",
    "We use `tif` image files converted from `vsi`. Refer to the [image_conversion.html](image_conversion.html) \n",
    "for detailed processes on converting image formats.\n",
    "\n",
    "The following image object loaded:"
   ]
  },
  {
   "cell_type": "code",
   "execution_count": 6,
   "id": "fcfb4ed7-3225-4a64-a811-daa61a992166",
   "metadata": {},
   "outputs": [
    {
     "name": "stdout",
     "output_type": "stream",
     "text": [
      "ImageContainer[shape=(33872, 33874), layers=['image']]\n"
     ]
    }
   ],
   "source": [
    "# ------------------------------------------------------------------------------\n",
    "# This chunk is used to load input image files\n",
    "# ------------------------------------------------------------------------------\n",
    "\n",
    "# Read image as numpy array\n",
    "img_array = imread(input_image)\n",
    "\n",
    "# Initialize ImageContainer\n",
    "img = sq.im.ImageContainer(img_array, layer=lyr)\n",
    "\n",
    "print(img)"
   ]
  },
  {
   "cell_type": "code",
   "execution_count": null,
   "id": "5465276d-aae2-4555-98d0-bd4e3765103c",
   "metadata": {},
   "outputs": [
    {
     "name": "stdout",
     "output_type": "stream",
     "text": [
      "WARNING: Unable to plot image with `5`. Setting `channelwise=True`\n"
     ]
    }
   ],
   "source": [
    "# ------------------------------------------------------------------------------\n",
    "# This chunk prints all input images at once\n",
    "# ------------------------------------------------------------------------------\n",
    "\n",
    "# Specify plotting arguments\n",
    "rows = 3\n",
    "cols = 2\n",
    "\n",
    "# Initialize subplots\n",
    "# fig, axes = plt.subplots(nrows=rows, ncols=cols)\n",
    "\n",
    "img.show(\"image\", channel=None, cmap=None)"
   ]
  },
  {
   "cell_type": "code",
   "execution_count": null,
   "id": "04bb191d-2774-4987-9d61-0431a489ec37",
   "metadata": {},
   "outputs": [],
   "source": []
  }
 ],
 "metadata": {
  "kernelspec": {
   "display_name": "Python 3 (ipykernel)",
   "language": "python",
   "name": "python3"
  },
  "language_info": {
   "codemirror_mode": {
    "name": "ipython",
    "version": 3
   },
   "file_extension": ".py",
   "mimetype": "text/x-python",
   "name": "python",
   "nbconvert_exporter": "python",
   "pygments_lexer": "ipython3",
   "version": "3.11.13"
  }
 },
 "nbformat": 4,
 "nbformat_minor": 5
}
